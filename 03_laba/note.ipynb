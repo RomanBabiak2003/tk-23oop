{
 "cells": [
  {
   "cell_type": "markdown",
   "metadata": {},
   "source": [
    "### Основи ОПП"
   ]
  },
  {
   "cell_type": "markdown",
   "metadata": {},
   "source": [
    " Вступ, порівняння"
   ]
  },
  {
   "cell_type": "code",
   "execution_count": 16,
   "metadata": {},
   "outputs": [
    {
     "name": "stdout",
     "output_type": "stream",
     "text": [
      "['Це', 'стрічка.']\n",
      "Богдан має домашнього улюбленця Кіт\n",
      "Назар має домашнього улюбленця Собака\n",
      "Іван має домашнього улюбленця Рибки\n",
      "Богдан має домашнього улюбленця ['Кіт', 'Рибки']\n",
      "Назар має домашнього улюбленця ['Кіт', 'Собака']\n",
      "Іван має домашнього улюбленця Папуга\n",
      "Тетяна немає тваринок.\n"
     ]
    }
   ],
   "source": [
    "s = str(\"Це стрічка.\")\n",
    "for i in [s.split()]:\n",
    "    print(i)\n",
    "# Якщо у нас є якийсь набір даних які потрібно між собою звязати\n",
    "name = [\"Богдан\", \"Назар\", \"Іван\"]\n",
    "pets = [\"Кіт\", \"Собака\", \"Рибки\", \"Папуга\"]\n",
    "\n",
    "for i in range(len(name)):\n",
    "    print(f\"{name[i]} має домашнього улюбленця {pets[i]}\")\n",
    "\n",
    "# А як зробити відповідність якщо потрібно звязати один до декількох?\n",
    "# можемо піти дуже складним шляхом та застосовувати словники\n",
    "who_has_pets = {\"Богдан\": [\"Кіт\", \"Рибки\"], \"Назар\": [\"Кіт\", \"Собака\"], \"Іван\": \"Папуга\", \"Тетяна\": None}\n",
    "for name in who_has_pets.keys():\n",
    "    if who_has_pets[name]:\n",
    "        print(f\"{name} має домашнього улюбленця {who_has_pets[name]}\")\n",
    "    else:\n",
    "        print(f\"{name} немає тваринок.\")"
   ]
  },
  {
   "cell_type": "code",
   "execution_count": 17,
   "metadata": {},
   "outputs": [
    {
     "name": "stdout",
     "output_type": "stream",
     "text": [
      "<__main__.WhoHasPets object at 0x000002202BDD6DD0>\n",
      "<__main__.WhoHasPets object at 0x000002202BD8AE10>\n"
     ]
    }
   ],
   "source": [
    "# ООП дозволяє створити новий тип даних описавши його властивості та поведінку\n",
    "class WhoHasPets():\n",
    "    pass\n",
    "\n",
    "a = WhoHasPets()\n",
    "a.name = \"Богдан\"\n",
    "a.surname = \"Б\"\n",
    "a.pets = [\"Кіт\", \"Рибки\"]\n",
    "a.pets_age = {\"Кіт\": 3, \"Рибки\": 1}\n",
    "\n",
    "print(a)\n",
    "\n",
    "b = WhoHasPets()\n",
    "print(b)"
   ]
  },
  {
   "cell_type": "code",
   "execution_count": 18,
   "metadata": {},
   "outputs": [],
   "source": [
    "def print_objects(obj:list):\n",
    "    for member in obj:\n",
    "        #print(f\"{member.name} {member.surname} має домашнього улюбленця {member.pets}. Тваринки мають вік {member.pets_age}\")\n",
    "        print(f\"{member.full_name} має домашнього улюбленця {member.pets}. Тваринки мають вік {member.pets_age}\")"
   ]
  },
  {
   "cell_type": "markdown",
   "metadata": {},
   "source": [
    "- атрибути обєктів, їх визначення через класи"
   ]
  },
  {
   "cell_type": "code",
   "execution_count": 19,
   "metadata": {},
   "outputs": [
    {
     "name": "stdout",
     "output_type": "stream",
     "text": [
      "Богдан Б має домашнього улюбленця !Заведи собі домашніх улюбленців!. Тваринки мають вік {}\n",
      "Андрій А має домашнього улюбленця {'Собака'}. Тваринки мають вік {'Собака': 4}\n",
      "Володимир В має домашнього улюбленця {'Папуга', 'Кіт'}. Тваринки мають вік {'Кіт': 6, 'Папуга': 1}\n",
      "1\n"
     ]
    }
   ],
   "source": [
    "# У класі є одна особлива функція яка називається Конструктор\n",
    "# У Конструкторі зявляється особлива змінна, яка називається self - вказівник на обєкт\n",
    "# self ніколи явно не передається при виклику обєтів\n",
    "class WhoHasPets():\n",
    "    #Класова змінна буде нам зберігати інформацію про кількість учасників (кількість створених обєктів)\n",
    "    user_count = 0\n",
    "\n",
    "    # ми передаємо у конструктор аргументи для заповнення атрибутів обєкту\n",
    "    def __init__(self, name:str, surname:str, pets:set={}, pets_age:dict={}) -> None:\n",
    "        # можемо аргументи передати в атрибути без змін, просто ініціалізуючи обєкт\n",
    "        self.name = name\n",
    "        self.surname = surname\n",
    "        # ми можемо модивікувати аргументи перш ніж присвоїти їх атрибутам обєкту\n",
    "        self.full_name = self.name + \" \" + self.surname\n",
    "        self.pets = pets if len(pets) > 0 else \"!Заведи собі домашніх улюбленців!\"\n",
    "        self.pets_age = pets_age\n",
    "        WhoHasPets.user_count += 1\n",
    "    \n",
    "    @property\n",
    "    def full_name_property(self):\n",
    "        return f\"{self.name} {self.surname}\"\n",
    "    \n",
    "    def pets_amount(self):\n",
    "        return len(self.pets) if isinstance(self.pets, set) else 0\n",
    "\n",
    "    def add_new_pet(self, breed:str, name:str=None, age:int=None):\n",
    "        if isinstance(self.pets, set):\n",
    "            # У даного обєкта вже є улюбленці, тому ми просто додаємо нового до списку\n",
    "            self.pets.add(breed)\n",
    "        else:\n",
    "            self.pets = {breed}\n",
    "        if name != None and age != None:\n",
    "            self.pets_age = {name: age}\n",
    "    \n",
    "    def remove_pet(self, breed:str):\n",
    "        print(f\"Як шкода що {breed} вже немає :( \")\n",
    "        self.pets.remove(breed)\n",
    "\n",
    "    @staticmethod\n",
    "    def say_hello(name=None, spam:bool=False):\n",
    "        if name != None:\n",
    "            s = f\"Привіт {name}, вітаємо в клубі любителів домашніх тварин!\"\n",
    "        else:\n",
    "            s = \"Привіт всім любителям домашніх тварин!\"\n",
    "        if spam:\n",
    "            for i in range(10):\n",
    "                print(f\"{s} Кажу це вже {i} раз!!!\")\n",
    "        else:\n",
    "            print(s)\n",
    "    \n",
    "    @classmethod\n",
    "    def invite_new_user(cls, name:str, surname:str):\n",
    "        cls.say_hello(name)\n",
    "        return cls(name, surname)\n",
    "    \n",
    "    @classmethod\n",
    "    def get_user_count(cls):\n",
    "        # Класовий метод для отримання кількості створених учасників клубу\n",
    "        print(f\"Нас вже є {cls.user_count} учасників клубу!\")\n",
    "        return cls.user_count\n",
    "        \n",
    "\n",
    "a = WhoHasPets(\"Богдан\", \"Б\")\n",
    "b = WhoHasPets(\"Андрій\", \"А\", set([\"Собака\"]), {\"Собака\": 4})\n",
    "c = WhoHasPets(\"Володимир\", \"В\", {\"Кіт\", \"Папуга\"}, {\"Кіт\": 6, \"Папуга\": 1})\n",
    "\n",
    "print_objects([a,b,c])\n",
    "\n",
    "### Для порівняння, в цілих числа конструкт міг бути ініціалізований числом, яка є аргументом що передається у конструктор \n",
    "n = int(1)\n",
    "print(n)"
   ]
  },
  {
   "cell_type": "code",
   "execution_count": 20,
   "metadata": {},
   "outputs": [
    {
     "name": "stdout",
     "output_type": "stream",
     "text": [
      "Братислав\n",
      "Братислав Б\n",
      "Богдан Б має домашнього улюбленця !Заведи собі домашніх улюбленців!. Тваринки мають вік {}\n"
     ]
    }
   ],
   "source": [
    "a.name = \"Братислав\"\n",
    "print(a.name)\n",
    "print(a.full_name_property)\n",
    "print_objects([a])"
   ]
  },
  {
   "cell_type": "code",
   "execution_count": 21,
   "metadata": {},
   "outputs": [
    {
     "name": "stdout",
     "output_type": "stream",
     "text": [
      "Братислав має 0 домашніх улюбленців. В нього є: !Заведи собі домашніх улюбленців!\n",
      "Андрій має 1 домашніх улюбленців. В нього є: {'Собака'}\n",
      "Володимир має 2 домашніх улюбленців. В нього є: {'Папуга', 'Кіт'}\n"
     ]
    }
   ],
   "source": [
    "a.pets_amount()\n",
    "for o in [a, b, c]:\n",
    "    print(f\"{o.name} має {o.pets_amount()} домашніх улюбленців. В нього є: {o.pets}\")"
   ]
  },
  {
   "cell_type": "code",
   "execution_count": 22,
   "metadata": {},
   "outputs": [
    {
     "name": "stdout",
     "output_type": "stream",
     "text": [
      "Братислав має 1 домашніх улюбленців. В нього є: {'Кіт'}\n"
     ]
    }
   ],
   "source": [
    "a.add_new_pet(\"Кіт\")\n",
    "# Дописати логіку предавання імент улюбленців!\n",
    "for o in [a]:\n",
    "    print(f\"{o.name} має {o.pets_amount()} домашніх улюбленців. В нього є: {o.pets}\")"
   ]
  },
  {
   "cell_type": "code",
   "execution_count": 23,
   "metadata": {},
   "outputs": [
    {
     "name": "stdout",
     "output_type": "stream",
     "text": [
      "Братислав має 2 домашніх улюбленців. В нього є: {'Кіт', 'Хомяк'}. Імя домашнього улюбленця: {'Жоржик': 1}\n"
     ]
    }
   ],
   "source": [
    "a.add_new_pet(\"Хомяк\", \"Жоржик\", 1)\n",
    "\n",
    "for o in [a]:\n",
    "    print(f\"{o.name} має {o.pets_amount()} домашніх улюбленців. В нього є: {o.pets}. Імя домашнього улюбленця: {o.pets_age}\")"
   ]
  },
  {
   "cell_type": "code",
   "execution_count": 24,
   "metadata": {},
   "outputs": [
    {
     "name": "stdout",
     "output_type": "stream",
     "text": [
      "Як шкода що Хомяк вже немає :( \n",
      "Братислав має 1 домашніх улюбленців. В нього є: {'Кіт'}. Імя домашнього улюбленця: {'Жоржик': 1} \n"
     ]
    }
   ],
   "source": [
    "a.remove_pet(\"Хомяк\")\n",
    "for o in [a]:\n",
    "    print(f\"{o.name} має {o.pets_amount()} домашніх улюбленців. В нього є: {o.pets}. Імя домашнього улюбленця: {o.pets_age} \")"
   ]
  },
  {
   "cell_type": "code",
   "execution_count": 25,
   "metadata": {},
   "outputs": [
    {
     "name": "stdout",
     "output_type": "stream",
     "text": [
      "Привіт всім любителям домашніх тварин!\n",
      "Привіт True, вітаємо в клубі любителів домашніх тварин!\n"
     ]
    }
   ],
   "source": [
    "a.say_hello()\n",
    "b.say_hello(True)"
   ]
  },
  {
   "cell_type": "markdown",
   "metadata": {},
   "source": [
    "- Розберемо детальніше вказівник на обєкт self"
   ]
  },
  {
   "cell_type": "code",
   "execution_count": 26,
   "metadata": {},
   "outputs": [
    {
     "name": "stdout",
     "output_type": "stream",
     "text": [
      "Це виклик методу з класу і ми явно передаємо обєкт: 1\n",
      "А це виклик через ообєкт: <bound method WhoHasPets.pets_amount of <__main__.WhoHasPets object at 0x000002202CB891D0>>\n"
     ]
    }
   ],
   "source": [
    "# Це робить те саме\n",
    "print(f\"Це виклик методу з класу і ми явно передаємо обєкт: {WhoHasPets.pets_amount(b)}\\nА це виклик через ообєкт: {b.pets_amount}\")"
   ]
  },
  {
   "cell_type": "code",
   "execution_count": 27,
   "metadata": {},
   "outputs": [
    {
     "name": "stdout",
     "output_type": "stream",
     "text": [
      "Привіт Богдан, вітаємо в клубі любителів домашніх тварин!\n",
      "Богдан Б має домашнього улюбленця !Заведи собі домашніх улюбленців!. Тваринки мають вік {}\n"
     ]
    }
   ],
   "source": [
    "d = WhoHasPets.invite_new_user(\"Богдан\", \"Б\")\n",
    "print_objects([d])\n"
   ]
  },
  {
   "cell_type": "code",
   "execution_count": 28,
   "metadata": {},
   "outputs": [
    {
     "name": "stdout",
     "output_type": "stream",
     "text": [
      "Зараз кількість учасників клубу є: 4. Я можу взнати кількість учасників з будь-якого обєкту: 4.\n",
      "Нас вже є 4 учасників клубу!\n",
      "Або кількість учасників можна отримати через клас 4 або викликавши класовий метод: 4\n",
      "Привіт Владислав, вітаємо в клубі любителів домашніх тварин!\n",
      "Після запрошення нового учасника, кількісь буде: 5\n"
     ]
    }
   ],
   "source": [
    "print(f\"Зараз кількість учасників клубу є: {a.user_count}. Я можу взнати кількість учасників з будь-якого обєкту: {b.user_count}.\")\n",
    "print(f\"Або кількість учасників можна отримати через клас {WhoHasPets.user_count} або викликавши класовий метод: {WhoHasPets.get_user_count()}\")\n",
    "\n",
    "# Кожен раз коли ми превиконуємо цю комірку та перстворюємо обєкт, кількість буде змінюватись!\n",
    "e = WhoHasPets.invite_new_user(\"Владислав\", \"В\")\n",
    "print(f\"Після запрошення нового учасника, кількісь буде: {e.user_count}\")\n",
    "# user_count це просто лічильник створених обєктів, якщо ми просто презаписали обєкт, загальна кількість буде збільшеною"
   ]
  },
  {
   "cell_type": "code",
   "execution_count": 29,
   "metadata": {},
   "outputs": [
    {
     "name": "stdout",
     "output_type": "stream",
     "text": [
      "Богдан Б має домашнього улюбленця {'Кіт'}. Тваринки мають вік {'Жоржик': 1}\n",
      "Андрій А має домашнього улюбленця {'Собака'}. Тваринки мають вік {'Собака': 4}\n",
      "Володимир В має домашнього улюбленця {'Папуга', 'Кіт'}. Тваринки мають вік {'Кіт': 6, 'Папуга': 1}\n",
      "Богдан Б має домашнього улюбленця !Заведи собі домашніх улюбленців!. Тваринки мають вік {}\n",
      "Владислав В має домашнього улюбленця !Заведи собі домашніх улюбленців!. Тваринки мають вік {}\n",
      "Всього є 5 обєктів, однак лічильник буде показувати: 5\n"
     ]
    }
   ],
   "source": [
    "# Це всі обєкти з якими ми можемо працювати\n",
    "print_objects([a,b,c,d,e]) \n",
    "print(f\"Всього є 5 обєктів, однак лічильник буде показувати: {WhoHasPets.user_count}\")"
   ]
  },
  {
   "cell_type": "code",
   "execution_count": 32,
   "metadata": {},
   "outputs": [
    {
     "ename": "AttributeError",
     "evalue": "module 'mylib' has no attribute 'WhoHasPetsModule'",
     "output_type": "error",
     "traceback": [
      "\u001b[1;31m---------------------------------------------------------------------------\u001b[0m",
      "\u001b[1;31mAttributeError\u001b[0m                            Traceback (most recent call last)",
      "\u001b[1;32mc:\\Users\\РОБОМАС\\OneDrive\\Документи\\tk-23oop\\tk-23oop\\03_laba\\note.ipynb Cell 19\u001b[0m line \u001b[0;36m4\n\u001b[0;32m      <a href='vscode-notebook-cell:/c%3A/Users/%D0%A0%D0%9E%D0%91%D0%9E%D0%9C%D0%90%D0%A1/OneDrive/%D0%94%D0%BE%D0%BA%D1%83%D0%BC%D0%B5%D0%BD%D1%82%D0%B8/tk-23oop/tk-23oop/03_laba/note.ipynb#X24sZmlsZQ%3D%3D?line=0'>1</a>\u001b[0m \u001b[39m#from mylib import WhoHasPetsModule\u001b[39;00m\n\u001b[0;32m      <a href='vscode-notebook-cell:/c%3A/Users/%D0%A0%D0%9E%D0%91%D0%9E%D0%9C%D0%90%D0%A1/OneDrive/%D0%94%D0%BE%D0%BA%D1%83%D0%BC%D0%B5%D0%BD%D1%82%D0%B8/tk-23oop/tk-23oop/03_laba/note.ipynb#X24sZmlsZQ%3D%3D?line=1'>2</a>\u001b[0m \u001b[39mimport\u001b[39;00m \u001b[39mmylib\u001b[39;00m\n\u001b[1;32m----> <a href='vscode-notebook-cell:/c%3A/Users/%D0%A0%D0%9E%D0%91%D0%9E%D0%9C%D0%90%D0%A1/OneDrive/%D0%94%D0%BE%D0%BA%D1%83%D0%BC%D0%B5%D0%BD%D1%82%D0%B8/tk-23oop/tk-23oop/03_laba/note.ipynb#X24sZmlsZQ%3D%3D?line=3'>4</a>\u001b[0m ll \u001b[39m=\u001b[39m mylib\u001b[39m.\u001b[39;49mWhoHasPetsModule(\u001b[39m\"\u001b[39m\u001b[39mБогдан\u001b[39m\u001b[39m\"\u001b[39m, \u001b[39m\"\u001b[39m\u001b[39mБ\u001b[39m\u001b[39m\"\u001b[39m)\n\u001b[0;32m      <a href='vscode-notebook-cell:/c%3A/Users/%D0%A0%D0%9E%D0%91%D0%9E%D0%9C%D0%90%D0%A1/OneDrive/%D0%94%D0%BE%D0%BA%D1%83%D0%BC%D0%B5%D0%BD%D1%82%D0%B8/tk-23oop/tk-23oop/03_laba/note.ipynb#X24sZmlsZQ%3D%3D?line=4'>5</a>\u001b[0m ll\u001b[39m.\u001b[39madd_new_pet(\u001b[39m\"\u001b[39m\u001b[39mПапуга\u001b[39m\u001b[39m\"\u001b[39m, \u001b[39m\"\u001b[39m\u001b[39mКеша\u001b[39m\u001b[39m\"\u001b[39m, \u001b[39m1\u001b[39m)\n\u001b[0;32m      <a href='vscode-notebook-cell:/c%3A/Users/%D0%A0%D0%9E%D0%91%D0%9E%D0%9C%D0%90%D0%A1/OneDrive/%D0%94%D0%BE%D0%BA%D1%83%D0%BC%D0%B5%D0%BD%D1%82%D0%B8/tk-23oop/tk-23oop/03_laba/note.ipynb#X24sZmlsZQ%3D%3D?line=5'>6</a>\u001b[0m print_objects([ll])\n",
      "\u001b[1;31mAttributeError\u001b[0m: module 'mylib' has no attribute 'WhoHasPetsModule'"
     ]
    }
   ],
   "source": [
    "#from mylib import WhoHasPetsModule\n",
    "import mylib\n",
    "\n",
    "ll = mylib.WhoHasPetsModule(\"Богдан\", \"Б\")\n",
    "ll.add_new_pet(\"Папуга\", \"Кеша\", 1)\n",
    "print_objects([ll])"
   ]
  }
 ],
 "metadata": {
  "kernelspec": {
   "display_name": "Python 3",
   "language": "python",
   "name": "python3"
  },
  "language_info": {
   "codemirror_mode": {
    "name": "ipython",
    "version": 3
   },
   "file_extension": ".py",
   "mimetype": "text/x-python",
   "name": "python",
   "nbconvert_exporter": "python",
   "pygments_lexer": "ipython3",
   "version": "3.11.5"
  }
 },
 "nbformat": 4,
 "nbformat_minor": 2
}
