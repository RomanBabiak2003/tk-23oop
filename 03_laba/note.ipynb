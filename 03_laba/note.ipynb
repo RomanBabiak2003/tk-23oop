{
 "cells": [
  {
   "cell_type": "markdown",
   "metadata": {},
   "source": [
    "### Основи ОПП"
   ]
  },
  {
   "cell_type": "markdown",
   "metadata": {},
   "source": [
    " Вступ, порівняння"
   ]
  },
  {
   "cell_type": "code",
   "execution_count": 46,
   "metadata": {},
   "outputs": [
    {
     "name": "stdout",
     "output_type": "stream",
     "text": [
      "['Це', 'стрічка.']\n",
      "Богдан має домашнього улюбленця Кіт\n",
      "Назар має домашнього улюбленця Собака\n",
      "Іван має домашнього улюбленця Рибки\n",
      "Богдан має домашнього улюбленця ['Кіт', 'Рибки']\n",
      "Назар має домашнього улюбленця ['Кіт', 'Собака']\n",
      "Іван має домашнього улюбленця Папуга\n",
      "Тетяна немає тваринок.\n"
     ]
    }
   ],
   "source": [
    "s = str(\"Це стрічка.\")\n",
    "for i in [s.split()]:\n",
    "    print(i)\n",
    "# Якщо у нас є якийсь набір даних які потрібно між собою звязати\n",
    "name = [\"Богдан\", \"Назар\", \"Іван\"]\n",
    "pets = [\"Кіт\", \"Собака\", \"Рибки\", \"Папуга\"]\n",
    "\n",
    "for i in range(len(name)):\n",
    "    print(f\"{name[i]} має домашнього улюбленця {pets[i]}\")\n",
    "\n",
    "# А як зробити відповідність якщо потрібно звязати один до декількох?\n",
    "# можемо піти дуже складним шляхом та застосовувати словники\n",
    "who_has_pets = {\"Богдан\": [\"Кіт\", \"Рибки\"], \"Назар\": [\"Кіт\", \"Собака\"], \"Іван\": \"Папуга\", \"Тетяна\": None}\n",
    "for name in who_has_pets.keys():\n",
    "    if who_has_pets[name]:\n",
    "        print(f\"{name} має домашнього улюбленця {who_has_pets[name]}\")\n",
    "    else:\n",
    "        print(f\"{name} немає тваринок.\")"
   ]
  },
  {
   "cell_type": "code",
   "execution_count": 47,
   "metadata": {},
   "outputs": [
    {
     "name": "stdout",
     "output_type": "stream",
     "text": [
      "<__main__.WhoHasPets object at 0x000001F90BABA250>\n",
      "<__main__.WhoHasPets object at 0x000001F90BAD16D0>\n"
     ]
    }
   ],
   "source": [
    "# ООП дозволяє створити новий тип даних описавши його властивості та поведінку\n",
    "class WhoHasPets():\n",
    "    pass\n",
    "\n",
    "a = WhoHasPets()\n",
    "a.name = \"Богдан\"\n",
    "a.surname = \"Б\"\n",
    "a.pets = [\"Кіт\", \"Рибки\"]\n",
    "a.pets_age = {\"Кіт\": 3, \"Рибки\": 1}\n",
    "\n",
    "print(a)\n",
    "\n",
    "b = WhoHasPets()\n",
    "print(b)\n",
    "\n",
    "def print_objects(obj:list):\n",
    "    for member in [a,b]:\n",
    "        print(f\"{member.name} {member.surname} має домашнього улюбленця {member.pets}. Тваринки мають вік {member.pets_age}\")"
   ]
  },
  {
   "cell_type": "markdown",
   "metadata": {},
   "source": [
    "- атрибути обєктів, їх визначення через класи"
   ]
  },
  {
   "cell_type": "code",
   "execution_count": 48,
   "metadata": {},
   "outputs": [
    {
     "name": "stdout",
     "output_type": "stream",
     "text": [
      "Богдан Б має домашнього улюбленця !Заведи собі домашніх улюбленців!. Тваринки мають вік {}\n",
      "Андрій А має домашнього улюбленця {'Собака'}. Тваринки мають вік {'Собака': 4}\n",
      "1\n"
     ]
    }
   ],
   "source": [
    "# У класі є одна особлива функція яка називається Конструктор\n",
    "# У Конструкторі зявляється особлива змінна, яка називається self - вказівник на обєкт\n",
    "# self ніколи явно не передається при виклику обєтів\n",
    "class WhoHasPets():\n",
    "    # ми передаємо у конструктор аргументи для заповнення атрибутів обєкту\n",
    "    def __init__(self, name:str, surname:str, pets:set={}, pets_age:dict={}) -> None:\n",
    "        # можемо аргументи передати в атрибути без змін, просто ініціалізуючи обєкт\n",
    "        self.name = name\n",
    "        self.surname = surname\n",
    "        # ми можемо модивікувати аргументи перш ніж присвоїти їх атрибутам обєкту\n",
    "        self.full_name = self.name + \" \" + self.surname\n",
    "        self.pets = pets if len(pets) > 0 else \"!Заведи собі домашніх улюбленців!\"\n",
    "        self.pets_age = pets_age\n",
    "    \n",
    "    @property\n",
    "    def full_name_property(self):\n",
    "        return f\"{self.name} {self.surname}\"\n",
    "    \n",
    "    def pets_amount(self):\n",
    "        return len(self.pets) if isinstance(self.pets, set) else 0\n",
    "\n",
    "    def add_new_pet(self, breed:str, name:str=None, age:int=None):\n",
    "        if isinstance(self.pets, set):\n",
    "            # У даного обєкта вже є улюбленці, тому ми просто додаємо нового до списку\n",
    "            self.pets.add(breed)\n",
    "        else:\n",
    "            self.pets = {breed}\n",
    "        if name != None and age != None:\n",
    "            self.pets_age = {name: age}\n",
    "    \n",
    "    def remove_pet(self, breed:str):\n",
    "        print(f\"Як шкода що {breed} вже немає :( \")\n",
    "        self.pets.remove(breed)\n",
    "\n",
    "    @staticmethod\n",
    "    def say_hello(spam:bool=False):\n",
    "        s = \"Привіт всім любителям домашніх тварин!\"\n",
    "        if spam:\n",
    "            for i in range(10):\n",
    "                print(f\"{s} Кажу це вже {i} раз!!!\")\n",
    "        else:\n",
    "            print(s)\n",
    "        \n",
    "\n",
    "a = WhoHasPets(\"Богдан\", \"Б\")\n",
    "b = WhoHasPets(\"Андрій\", \"А\", set([\"Собака\"]), {\"Собака\": 4})\n",
    "c = WhoHasPets(\"Володимир\", \"В\", {\"Кіт\", \"Папуга\"}, {\"Кіт\": 6, \"Папуга\": 1})\n",
    "\n",
    "print_objects([a,b,c])\n",
    "\n",
    "### Для порівняння, в цілих числа конструкт міг бути ініціалізований числом, яка є аргументом що передається у конструктор \n",
    "n = int(1)\n",
    "print(n)"
   ]
  },
  {
   "cell_type": "code",
   "execution_count": 49,
   "metadata": {},
   "outputs": [
    {
     "name": "stdout",
     "output_type": "stream",
     "text": [
      "Братислав\n",
      "Братислав Б\n",
      "Братислав Б має домашнього улюбленця !Заведи собі домашніх улюбленців!. Тваринки мають вік {}\n",
      "Андрій А має домашнього улюбленця {'Собака'}. Тваринки мають вік {'Собака': 4}\n"
     ]
    }
   ],
   "source": [
    "a.name = \"Братислав\"\n",
    "print(a.name)\n",
    "print(a.full_name_property)\n",
    "print_objects([a])"
   ]
  },
  {
   "cell_type": "code",
   "execution_count": 50,
   "metadata": {},
   "outputs": [
    {
     "name": "stdout",
     "output_type": "stream",
     "text": [
      "Братислав має 0 домашніх улюбленців. В нього є: !Заведи собі домашніх улюбленців!\n",
      "Андрій має 1 домашніх улюбленців. В нього є: {'Собака'}\n",
      "Володимир має 2 домашніх улюбленців. В нього є: {'Папуга', 'Кіт'}\n"
     ]
    }
   ],
   "source": [
    "a.pets_amount()\n",
    "for o in [a, b, c]:\n",
    "    print(f\"{o.name} має {o.pets_amount()} домашніх улюбленців. В нього є: {o.pets}\")"
   ]
  },
  {
   "cell_type": "code",
   "execution_count": 51,
   "metadata": {},
   "outputs": [
    {
     "name": "stdout",
     "output_type": "stream",
     "text": [
      "Братислав має 1 домашніх улюбленців. В нього є: {'Кіт'}\n"
     ]
    }
   ],
   "source": [
    "a.add_new_pet(\"Кіт\")\n",
    "# Дописати логіку предавання імент улюбленців!\n",
    "for o in [a]:\n",
    "    print(f\"{o.name} має {o.pets_amount()} домашніх улюбленців. В нього є: {o.pets}\")"
   ]
  },
  {
   "cell_type": "code",
   "execution_count": 52,
   "metadata": {},
   "outputs": [
    {
     "name": "stdout",
     "output_type": "stream",
     "text": [
      "Братислав має 2 домашніх улюбленців. В нього є: {'Кіт', 'Хомяк'}. Імя домашнього улюбленця: {'Жоржик': 1}\n"
     ]
    }
   ],
   "source": [
    "a.add_new_pet(\"Хомяк\", \"Жоржик\", 1)\n",
    "\n",
    "for o in [a]:\n",
    "    print(f\"{o.name} має {o.pets_amount()} домашніх улюбленців. В нього є: {o.pets}. Імя домашнього улюбленця: {o.pets_age}\")"
   ]
  },
  {
   "cell_type": "code",
   "execution_count": 53,
   "metadata": {},
   "outputs": [
    {
     "name": "stdout",
     "output_type": "stream",
     "text": [
      "Як шкода що Хомяк вже немає :( \n",
      "Братислав має 1 домашніх улюбленців. В нього є: {'Кіт'}. Імя домашнього улюбленця: {'Жоржик': 1} \n"
     ]
    }
   ],
   "source": [
    "a.remove_pet(\"Хомяк\")\n",
    "for o in [a]:\n",
    "    print(f\"{o.name} має {o.pets_amount()} домашніх улюбленців. В нього є: {o.pets}. Імя домашнього улюбленця: {o.pets_age} \")"
   ]
  },
  {
   "cell_type": "code",
   "execution_count": 54,
   "metadata": {},
   "outputs": [
    {
     "name": "stdout",
     "output_type": "stream",
     "text": [
      "Привіт всім любителям домашніх тварин!\n",
      "Привіт всім любителям домашніх тварин! Кажу це вже 0 раз!!!\n",
      "Привіт всім любителям домашніх тварин! Кажу це вже 1 раз!!!\n",
      "Привіт всім любителям домашніх тварин! Кажу це вже 2 раз!!!\n",
      "Привіт всім любителям домашніх тварин! Кажу це вже 3 раз!!!\n",
      "Привіт всім любителям домашніх тварин! Кажу це вже 4 раз!!!\n",
      "Привіт всім любителям домашніх тварин! Кажу це вже 5 раз!!!\n",
      "Привіт всім любителям домашніх тварин! Кажу це вже 6 раз!!!\n",
      "Привіт всім любителям домашніх тварин! Кажу це вже 7 раз!!!\n",
      "Привіт всім любителям домашніх тварин! Кажу це вже 8 раз!!!\n",
      "Привіт всім любителям домашніх тварин! Кажу це вже 9 раз!!!\n"
     ]
    }
   ],
   "source": [
    "a.say_hello()\n",
    "b.say_hello(True)"
   ]
  },
  {
   "cell_type": "code",
   "execution_count": 55,
   "metadata": {},
   "outputs": [
    {
     "name": "stdout",
     "output_type": "stream",
     "text": [
      "Це виклик методу з класу і ми явно передаємо обєкт: 1\n",
      "А це виклик через обєкт: <bound method WhoHasPets.pets_amount of <__main__.WhoHasPets object at 0x000001F90D274A90>>\n"
     ]
    }
   ],
   "source": [
    "# Це робить те саме\n",
    "print(f\"Це виклик методу з класу і ми явно передаємо обєкт: {WhoHasPets.pets_amount(b)}\\nА це виклик через обєкт: {b.pets_amount}\")"
   ]
  }
 ],
 "metadata": {
  "kernelspec": {
   "display_name": "Python 3",
   "language": "python",
   "name": "python3"
  },
  "language_info": {
   "codemirror_mode": {
    "name": "ipython",
    "version": 3
   },
   "file_extension": ".py",
   "mimetype": "text/x-python",
   "name": "python",
   "nbconvert_exporter": "python",
   "pygments_lexer": "ipython3",
   "version": "3.11.5"
  }
 },
 "nbformat": 4,
 "nbformat_minor": 2
}
