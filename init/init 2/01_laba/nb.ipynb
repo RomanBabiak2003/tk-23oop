{
 "cells": [
  {
   "cell_type": "markdown",
   "metadata": {},
   "source": [
    "### Виконуємо першу програму ітеративно у комірках Python Jupyter Notebook\n",
    ">Ця комірка належить до Markdown,а наступна вже будуть з Python"
   ]
  },
  {
   "cell_type": "markdown",
   "metadata": {},
   "source": [
    "* Наступна  клітинка це імпорт бібліотек(Python)\n"
   ]
  },
  {
   "cell_type": "code",
   "execution_count": null,
   "metadata": {},
   "outputs": [],
   "source": [
    "from datetime import datetime\n",
    "from time import time, sleep\n"
   ]
  },
  {
   "cell_type": "markdown",
   "metadata": {},
   "source": [
    "-  Наступна клітинка задає змінні "
   ]
  },
  {
   "cell_type": "code",
   "execution_count": 28,
   "metadata": {},
   "outputs": [],
   "source": [
    "name = \"Roman\"\n",
    "location = \"Lviv\"\n",
    "sleep_time = 6"
   ]
  },
  {
   "cell_type": "markdown",
   "metadata": {},
   "source": [
    "- Наступна клітинка буде виводити текст"
   ]
  },
  {
   "cell_type": "code",
   "execution_count": 30,
   "metadata": {},
   "outputs": [
    {
     "name": "stdout",
     "output_type": "stream",
     "text": [
      "Roman start programming at 2023-09-19 09:27:20.028430. Lviv is the best city!\n",
      "Програма буде спати 6 секунд\n",
      "Програма виконувалась 6.0014684200286865 секунд(і ми забераємо 6 секунд які програма спала): 0.0014684200286865234 сек\n"
     ]
    }
   ],
   "source": [
    "start = time()\n",
    "print(f\"{name} start programming at {datetime.now()}. {location} is the best city!\")\n",
    "print(f\"Програма буде спати {sleep_time} секунд\")\n",
    "sleep(sleep_time)\n",
    "end = time()\n",
    "print(f\"Програма виконувалась {end - start } секунд(і ми забераємо {sleep_time} секунд які програма спала): {end - start - sleep_time} сек\")"
   ]
  }
 ],
 "metadata": {
  "kernelspec": {
   "display_name": "Python 3",
   "language": "python",
   "name": "python3"
  },
  "language_info": {
   "codemirror_mode": {
    "name": "ipython",
    "version": 3
   },
   "file_extension": ".py",
   "mimetype": "text/x-python",
   "name": "python",
   "nbconvert_exporter": "python",
   "pygments_lexer": "ipython3",
   "version": "3.11.5"
  },
  "orig_nbformat": 4
 },
 "nbformat": 4,
 "nbformat_minor": 2
}
