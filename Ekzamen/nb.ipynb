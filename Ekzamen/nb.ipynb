{
 "cells": [
  {
   "cell_type": "code",
   "execution_count": 1,
   "metadata": {},
   "outputs": [
    {
     "name": "stdout",
     "output_type": "stream",
     "text": [
      "Марта має 30 років\n",
      "Маркіян має 25 років\n",
      "Я здав екзамен(надіюсь)\n"
     ]
    }
   ],
   "source": [
    "class Person:\n",
    "    def __init__(self, name):\n",
    "        self.name = name\n",
    "        \n",
    "    def set_age(self, name, age):\n",
    "        print(f\"{name} має {age} років\")\n",
    "        \n",
    "person1 = Person(\"Марта\")\n",
    "person1.set_age(\"Марта\", 30) \n",
    "\n",
    "person2 = Person\n",
    "person2(\"Маркіян\").set_age(\"Маркіян\", 25)\n",
    "print((\"Я здав екзамен(надіюсь)\"))\n"
   ]
  }
 ],
 "metadata": {
  "kernelspec": {
   "display_name": "Python 3",
   "language": "python",
   "name": "python3"
  },
  "language_info": {
   "codemirror_mode": {
    "name": "ipython",
    "version": 3
   },
   "file_extension": ".py",
   "mimetype": "text/x-python",
   "name": "python",
   "nbconvert_exporter": "python",
   "pygments_lexer": "ipython3",
   "version": "3.11.7"
  }
 },
 "nbformat": 4,
 "nbformat_minor": 2
}
